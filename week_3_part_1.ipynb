{
  "nbformat": 4,
  "nbformat_minor": 0,
  "metadata": {
    "colab": {
      "name": "week-3-part-1.ipynb",
      "provenance": [],
      "authorship_tag": "ABX9TyOSNHXcv8y5luP2HoTqh2A6",
      "include_colab_link": true
    },
    "kernelspec": {
      "name": "python3",
      "display_name": "Python 3"
    },
    "language_info": {
      "name": "python"
    }
  },
  "cells": [
    {
      "cell_type": "markdown",
      "metadata": {
        "id": "view-in-github",
        "colab_type": "text"
      },
      "source": [
        "<a href=\"https://colab.research.google.com/github/siperolli/IBM-Data-Science-Capstone-/blob/main/week_3_part_1.ipynb\" target=\"_parent\"><img src=\"https://colab.research.google.com/assets/colab-badge.svg\" alt=\"Open In Colab\"/></a>"
      ]
    },
    {
      "cell_type": "markdown",
      "metadata": {
        "id": "O74ehvinV4PY"
      },
      "source": [
        "<h1>This notebook is the 1 part of week 3 assignment of the capstone project.</h1>\n",
        "\n",
        "Consists of get a table with Beautifullsoup."
      ]
    },
    {
      "cell_type": "markdown",
      "metadata": {
        "id": "N1udSTqgWdqz"
      },
      "source": [
        "Used libraries"
      ]
    },
    {
      "cell_type": "code",
      "metadata": {
        "id": "8kuJb0s4WYaW"
      },
      "source": [
        "import numpy as np # library to handle data in a vectorized manner\n",
        "import requests\n",
        "import urllib\n",
        "from bs4 import BeautifulSoup\n",
        "import re\n",
        "\n",
        "import pandas as pd # library for data analsysis\n"
      ],
      "execution_count": 2,
      "outputs": []
    },
    {
      "cell_type": "markdown",
      "metadata": {
        "id": "e-P4vx5PWpiz"
      },
      "source": [
        "Get data from the toronto neighborhood:\n",
        "\n",
        "https://en.wikipedia.org/wiki/List_of_postal_codes_of_Canada:_M"
      ]
    },
    {
      "cell_type": "code",
      "metadata": {
        "id": "HbENb66pWqMQ"
      },
      "source": [
        "url = \"https://en.wikipedia.org/wiki/List_of_postal_codes_of_Canada:_M\"\n",
        "r = requests.get(url)\n",
        "# convert url em text\n",
        "data = r.text\n",
        "#convert \n",
        "soup = BeautifulSoup(data, 'html.parser')"
      ],
      "execution_count": 3,
      "outputs": []
    },
    {
      "cell_type": "markdown",
      "metadata": {
        "id": "AKrBstx_Wz0r"
      },
      "source": [
        "Create a Dataframe = tb."
      ]
    },
    {
      "cell_type": "code",
      "metadata": {
        "id": "rYmI3YmFWwFh"
      },
      "source": [
        "tb=soup.find('table').text"
      ],
      "execution_count": 4,
      "outputs": []
    },
    {
      "cell_type": "code",
      "metadata": {
        "colab": {
          "base_uri": "https://localhost:8080/",
          "height": 145
        },
        "id": "r1yuauuGW7vH",
        "outputId": "d9955e73-1abd-44d0-dc35-30a1f5adb65f"
      },
      "source": [
        "tb"
      ],
      "execution_count": 5,
      "outputs": [
        {
          "output_type": "execute_result",
          "data": {
            "application/vnd.google.colaboratory.intrinsic+json": {
              "type": "string"
            },
            "text/plain": [
              "\"\\n\\n\\nM1ANot assigned\\n\\n\\n\\nM2ANot assigned\\n\\n\\n\\nM3ANorth York(Parkwoods)\\n\\n\\n\\nM4ANorth York(Victoria Village)\\n\\n\\n\\nM5ADowntown Toronto(Regent Park / Harbourfront)\\n\\n\\n\\nM6ANorth York(Lawrence Manor / Lawrence Heights)\\n\\n\\n\\nM7AQueen's Park(Ontario Provincial Government)\\n\\n\\n\\nM8ANot assigned\\n\\n\\n\\nM9AEtobicoke(Islington Avenue)\\n\\n\\n\\n\\nM1BScarborough(Malvern / Rouge)\\n\\n\\n\\nM2BNot assigned\\n\\n\\n\\nM3BNorth York(Don Mills)North\\n\\n\\n\\nM4BEast York(Parkview Hill / Woodbine Gardens)\\n\\n\\n\\nM5BDowntown Toronto(Garden District, Ryerson)\\n\\n\\n\\nM6BNorth York(Glencairn)\\n\\n\\n\\nM7BNot assigned\\n\\n\\n\\nM8BNot assigned\\n\\n\\n\\nM9BEtobicoke(West Deane Park / Princess Gardens / Martin Grove / Islington / Cloverdale)\\n\\n\\n\\n\\nM1CScarborough(Rouge Hill / Port Union / Highland Creek)\\n\\n\\n\\nM2CNot assigned\\n\\n\\n\\nM3CNorth York(Don Mills)South(Flemingdon Park)\\n\\n\\n\\nM4CEast York(Woodbine Heights)\\n\\n\\n\\nM5CDowntown Toronto(St. James Town)\\n\\n\\n\\nM6CYork(Humewood-Cedarvale)\\n\\n\\n\\nM7CNot assigned\\n\\n\\n\\nM8CNot assigned\\n\\n\\n\\nM9CEtobicoke(Eringate / Bloordale Gardens / Old Burnhamthorpe / Markland Wood)\\n\\n\\n\\n\\nM1EScarborough(Guildwood / Morningside / West Hill)\\n\\n\\n\\nM2ENot assigned\\n\\n\\n\\nM3ENot assigned\\n\\n\\n\\nM4EEast Toronto(The Beaches)\\n\\n\\n\\nM5EDowntown Toronto(Berczy Park)\\n\\n\\n\\nM6EYork(Caledonia-Fairbanks)\\n\\n\\n\\nM7ENot assigned\\n\\n\\n\\nM8ENot assigned\\n\\n\\n\\nM9ENot assigned\\n\\n\\n\\n\\nM1GScarborough(Woburn)\\n\\n\\n\\nM2GNot assigned\\n\\n\\n\\nM3GNot assigned\\n\\n\\n\\nM4GEast York(Leaside)\\n\\n\\n\\nM5GDowntown Toronto(Central Bay Street)\\n\\n\\n\\nM6GDowntown Toronto(Christie)\\n\\n\\n\\nM7GNot assigned\\n\\n\\n\\nM8GNot assigned\\n\\n\\n\\nM9GNot assigned\\n\\n\\n\\n\\nM1HScarborough(Cedarbrae)\\n\\n\\n\\nM2HNorth York(Hillcrest Village)\\n\\n\\n\\nM3HNorth York(Bathurst Manor / Wilson Heights / Downsview North)\\n\\n\\n\\nM4HEast York(Thorncliffe Park)\\n\\n\\n\\nM5HDowntown Toronto(Richmond / Adelaide / King)\\n\\n\\n\\nM6HWest Toronto(Dufferin / Dovercourt Village)\\n\\n\\n\\nM7HNot assigned\\n\\n\\n\\nM8HNot assigned\\n\\n\\n\\nM9HNot assigned\\n\\n\\n\\n\\nM1JScarborough(Scarborough Village)\\n\\n\\n\\nM2JNorth York(Fairview / Henry Farm / Oriole)\\n\\n\\n\\nM3JNorth York(Northwood Park / York University)\\n\\n\\n\\nM4JEast YorkEast Toronto(The Danforth  East)\\n\\n\\n\\nM5JDowntown Toronto(Harbourfront East / Union Station / Toronto Islands)\\n\\n\\n\\nM6JWest Toronto(Little Portugal / Trinity)\\n\\n\\n\\nM7JNot assigned\\n\\n\\n\\nM8JNot assigned\\n\\n\\n\\nM9JNot assigned\\n\\n\\n\\n\\nM1KScarborough(Kennedy Park / Ionview / East Birchmount Park)\\n\\n\\n\\nM2KNorth York(Bayview Village)\\n\\n\\n\\nM3KNorth York(Downsview)East  (CFB Toronto)\\n\\n\\n\\nM4KEast Toronto(The Danforth West / Riverdale)\\n\\n\\n\\nM5KDowntown Toronto(Toronto Dominion Centre / Design Exchange)\\n\\n\\n\\nM6KWest Toronto(Brockton / Parkdale Village / Exhibition Place)\\n\\n\\n\\nM7KNot assigned\\n\\n\\n\\nM8KNot assigned\\n\\n\\n\\nM9KNot assigned\\n\\n\\n\\n\\nM1LScarborough(Golden Mile / Clairlea / Oakridge)\\n\\n\\n\\nM2LNorth York(York Mills / Silver Hills)\\n\\n\\n\\nM3LNorth York(Downsview)West\\n\\n\\n\\nM4LEast Toronto(India Bazaar / The Beaches West)\\n\\n\\n\\nM5LDowntown Toronto(Commerce Court / Victoria Hotel)\\n\\n\\n\\nM6LNorth York(North Park / Maple Leaf Park / Upwood Park)\\n\\n\\n\\nM7LNot assigned\\n\\n\\n\\nM8LNot assigned\\n\\n\\n\\nM9LNorth York(Humber Summit)\\n\\n\\n\\n\\nM1MScarborough(Cliffside / Cliffcrest / Scarborough Village West)\\n\\n\\n\\nM2MNorth York(Willowdale / Newtonbrook)\\n\\n\\n\\nM3MNorth York(Downsview)Central\\n\\n\\n\\nM4MEast Toronto(Studio District)\\n\\n\\n\\nM5MNorth York(Bedford Park / Lawrence Manor East)\\n\\n\\n\\nM6MYork(Del Ray / Mount Dennis / Keelsdale and Silverthorn)\\n\\n\\n\\nM7MNot assigned\\n\\n\\n\\nM8MNot assigned\\n\\n\\n\\nM9MNorth York(Humberlea / Emery)\\n\\n\\n\\n\\nM1NScarborough(Birch Cliff / Cliffside West)\\n\\n\\n\\nM2NNorth York(Willowdale)South\\n\\n\\n\\nM3NNorth York(Downsview)Northwest\\n\\n\\n\\nM4NCentral Toronto(Lawrence Park)\\n\\n\\n\\nM5NCentral Toronto(Roselawn)\\n\\n\\n\\nM6NYork(Runnymede / The Junction North)\\n\\n\\n\\nM7NNot assigned\\n\\n\\n\\nM8NNot assigned\\n\\n\\n\\nM9NYork(Weston)\\n\\n\\n\\n\\nM1PScarborough(Dorset Park / Wexford Heights / Scarborough Town Centre)\\n\\n\\n\\nM2PNorth York(York Mills West)\\n\\n\\n\\nM3PNot assigned\\n\\n\\n\\nM4PCentral Toronto(Davisville North)\\n\\n\\n\\nM5PCentral Toronto(Forest Hill North & West)\\n\\n\\n\\nM6PWest Toronto(High Park / The Junction South)\\n\\n\\n\\nM7PNot assigned\\n\\n\\n\\nM8PNot assigned\\n\\n\\n\\nM9PEtobicoke(Westmount)\\n\\n\\n\\n\\nM1RScarborough(Wexford / Maryvale)\\n\\n\\n\\nM2RNorth York(Willowdale)West\\n\\n\\n\\nM3RNot assigned\\n\\n\\n\\nM4RCentral Toronto(North Toronto West)\\n\\n\\n\\nM5RCentral Toronto(The Annex / North Midtown / Yorkville)\\n\\n\\n\\nM6RWest Toronto(Parkdale / Roncesvalles)\\n\\n\\n\\nM7RMississaugaCanada Post Gateway Processing Centre(Enclave of L4W)\\n\\n\\n\\nM8RNot assigned\\n\\n\\n\\nM9REtobicoke(Kingsview Village / St. Phillips / Martin Grove Gardens / Richview Gardens)\\n\\n\\n\\n\\nM1SScarborough(Agincourt) \\n\\n\\n\\nM2SNot assigned\\n\\n\\n\\nM3SNot assigned\\n\\n\\n\\nM4SCentral Toronto(Davisville)\\n\\n\\n\\nM5SDowntown Toronto(University of Toronto / Harbord)\\n\\n\\n\\nM6SWest Toronto(Runnymede / Swansea)\\n\\n\\n\\nM7SNot assigned\\n\\n\\n\\nM8SNot assigned\\n\\n\\n\\nM9SNot assigned\\n\\n\\n\\n\\nM1TScarborough(Clarks Corners / Tam O'Shanter / Sullivan)\\n\\n\\n\\nM2TNot assigned\\n\\n\\n\\nM3TNot assigned\\n\\n\\n\\nM4TCentral Toronto(Moore Park / Summerhill East)\\n\\n\\n\\nM5TDowntown Toronto(Kensington Market / Chinatown / Grange Park)\\n\\n\\n\\nM6TNot assigned\\n\\n\\n\\nM7TNot assigned\\n\\n\\n\\nM8TNot assigned\\n\\n\\n\\nM9TNot assigned\\n\\n\\n\\n\\nM1VScarborough(Milliken / Agincourt North / Steeles East / L'Amoreaux East)\\n\\n\\n\\nM2VNot assigned\\n\\n\\n\\nM3VNot assigned\\n\\n\\n\\nM4VCentral Toronto(Summerhill West / Rathnelly / South Hill / Forest Hill SE / Deer Park)\\n\\n\\n\\nM5VDowntown Toronto(CN Tower / King and Spadina / Railway Lands / Harbourfront West / Bathurst Quay / South Niagara / Island airport)\\n\\n\\n\\nM6VNot assigned\\n\\n\\n\\nM7VNot assigned\\n\\n\\n\\nM8VEtobicoke(New Toronto / Mimico South / Humber Bay Shores)\\n\\n\\n\\nM9VEtobicoke(South Steeles / Silverstone / Humbergate / Jamestown / Mount Olive / Beaumond Heights / Thistletown / Albion Gardens)\\n\\n\\n\\n\\nM1WScarborough(Steeles West / L'Amoreaux West)\\n\\n\\n\\nM2WNot assigned\\n\\n\\n\\nM3WNot assigned\\n\\n\\n\\nM4WDowntown Toronto(Rosedale)\\n\\n\\n\\nM5WDowntown TorontoStn A PO Boxes25 The Esplanade(Enclave of M5E)\\n\\n\\n\\nM6WNot assigned\\n\\n\\n\\nM7WNot assigned\\n\\n\\n\\nM8WEtobicoke(Alderwood / Long Branch)\\n\\n\\n\\nM9WEtobicokeNorthwest(Clairville / Humberwood / Woodbine Downs / West Humber / Kipling Heights / Rexdale / Elms / Tandridge / Old Rexdale)\\n\\n\\n\\n\\nM1XScarborough(Upper Rouge)\\n\\n\\n\\nM2XNot assigned\\n\\n\\n\\nM3XNot assigned\\n\\n\\n\\nM4XDowntown Toronto(St. James Town / Cabbagetown)\\n\\n\\n\\nM5XDowntown Toronto(First Canadian Place / Underground city)\\n\\n\\n\\nM6XNot assigned\\n\\n\\n\\nM7XNot assigned\\n\\n\\n\\nM8XEtobicoke(The Kingsway / Montgomery Road / Old Mill North)\\n\\n\\n\\nM9XNot assigned\\n\\n\\n\\n\\nM1YNot assigned\\n\\n\\n\\nM2YNot assigned\\n\\n\\n\\nM3YNot assigned\\n\\n\\n\\nM4YDowntown Toronto(Church and Wellesley)\\n\\n\\n\\nM5YNot assigned\\n\\n\\n\\nM6YNot assigned\\n\\n\\n\\nM7YEast TorontoBusiness reply mail Processing Centre969 Eastern(Enclave of M4L)\\n\\n\\n\\nM8YEtobicoke(Old Mill South / King's Mill Park / Sunnylea / Humber Bay / Mimico NE / The Queensway East / Royal York South East / Kingsway Park South East)\\n\\n\\n\\nM9YNot assigned\\n\\n\\n\\n\\nM1ZNot assigned\\n\\n\\n\\nM2ZNot assigned\\n\\n\\n\\nM3ZNot assigned\\n\\n\\n\\nM4ZNot assigned\\n\\n\\n\\nM5ZNot assigned\\n\\n\\n\\nM6ZNot assigned\\n\\n\\n\\nM7ZNot assigned\\n\\n\\n\\nM8ZEtobicoke(Mimico NW / The Queensway West / South of Bloor / Kingsway Park South West / Royal York South West)\\n\\n\\n\\nM9ZNot assigned\\n\\n\""
            ]
          },
          "metadata": {
            "tags": []
          },
          "execution_count": 5
        }
      ]
    },
    {
      "cell_type": "code",
      "metadata": {
        "colab": {
          "base_uri": "https://localhost:8080/"
        },
        "id": "dh5QHYlHW9bf",
        "outputId": "9d77abe1-f942-4b49-916c-9597fca24602"
      },
      "source": [
        "re.split('\\n{3,5}', tb)"
      ],
      "execution_count": 6,
      "outputs": [
        {
          "output_type": "execute_result",
          "data": {
            "text/plain": [
              "['',\n",
              " 'M1ANot assigned',\n",
              " 'M2ANot assigned',\n",
              " 'M3ANorth York(Parkwoods)',\n",
              " 'M4ANorth York(Victoria Village)',\n",
              " 'M5ADowntown Toronto(Regent Park / Harbourfront)',\n",
              " 'M6ANorth York(Lawrence Manor / Lawrence Heights)',\n",
              " \"M7AQueen's Park(Ontario Provincial Government)\",\n",
              " 'M8ANot assigned',\n",
              " 'M9AEtobicoke(Islington Avenue)',\n",
              " 'M1BScarborough(Malvern / Rouge)',\n",
              " 'M2BNot assigned',\n",
              " 'M3BNorth York(Don Mills)North',\n",
              " 'M4BEast York(Parkview Hill / Woodbine Gardens)',\n",
              " 'M5BDowntown Toronto(Garden District, Ryerson)',\n",
              " 'M6BNorth York(Glencairn)',\n",
              " 'M7BNot assigned',\n",
              " 'M8BNot assigned',\n",
              " 'M9BEtobicoke(West Deane Park / Princess Gardens / Martin Grove / Islington / Cloverdale)',\n",
              " 'M1CScarborough(Rouge Hill / Port Union / Highland Creek)',\n",
              " 'M2CNot assigned',\n",
              " 'M3CNorth York(Don Mills)South(Flemingdon Park)',\n",
              " 'M4CEast York(Woodbine Heights)',\n",
              " 'M5CDowntown Toronto(St. James Town)',\n",
              " 'M6CYork(Humewood-Cedarvale)',\n",
              " 'M7CNot assigned',\n",
              " 'M8CNot assigned',\n",
              " 'M9CEtobicoke(Eringate / Bloordale Gardens / Old Burnhamthorpe / Markland Wood)',\n",
              " 'M1EScarborough(Guildwood / Morningside / West Hill)',\n",
              " 'M2ENot assigned',\n",
              " 'M3ENot assigned',\n",
              " 'M4EEast Toronto(The Beaches)',\n",
              " 'M5EDowntown Toronto(Berczy Park)',\n",
              " 'M6EYork(Caledonia-Fairbanks)',\n",
              " 'M7ENot assigned',\n",
              " 'M8ENot assigned',\n",
              " 'M9ENot assigned',\n",
              " 'M1GScarborough(Woburn)',\n",
              " 'M2GNot assigned',\n",
              " 'M3GNot assigned',\n",
              " 'M4GEast York(Leaside)',\n",
              " 'M5GDowntown Toronto(Central Bay Street)',\n",
              " 'M6GDowntown Toronto(Christie)',\n",
              " 'M7GNot assigned',\n",
              " 'M8GNot assigned',\n",
              " 'M9GNot assigned',\n",
              " 'M1HScarborough(Cedarbrae)',\n",
              " 'M2HNorth York(Hillcrest Village)',\n",
              " 'M3HNorth York(Bathurst Manor / Wilson Heights / Downsview North)',\n",
              " 'M4HEast York(Thorncliffe Park)',\n",
              " 'M5HDowntown Toronto(Richmond / Adelaide / King)',\n",
              " 'M6HWest Toronto(Dufferin / Dovercourt Village)',\n",
              " 'M7HNot assigned',\n",
              " 'M8HNot assigned',\n",
              " 'M9HNot assigned',\n",
              " 'M1JScarborough(Scarborough Village)',\n",
              " 'M2JNorth York(Fairview / Henry Farm / Oriole)',\n",
              " 'M3JNorth York(Northwood Park / York University)',\n",
              " 'M4JEast YorkEast Toronto(The Danforth  East)',\n",
              " 'M5JDowntown Toronto(Harbourfront East / Union Station / Toronto Islands)',\n",
              " 'M6JWest Toronto(Little Portugal / Trinity)',\n",
              " 'M7JNot assigned',\n",
              " 'M8JNot assigned',\n",
              " 'M9JNot assigned',\n",
              " 'M1KScarborough(Kennedy Park / Ionview / East Birchmount Park)',\n",
              " 'M2KNorth York(Bayview Village)',\n",
              " 'M3KNorth York(Downsview)East  (CFB Toronto)',\n",
              " 'M4KEast Toronto(The Danforth West / Riverdale)',\n",
              " 'M5KDowntown Toronto(Toronto Dominion Centre / Design Exchange)',\n",
              " 'M6KWest Toronto(Brockton / Parkdale Village / Exhibition Place)',\n",
              " 'M7KNot assigned',\n",
              " 'M8KNot assigned',\n",
              " 'M9KNot assigned',\n",
              " 'M1LScarborough(Golden Mile / Clairlea / Oakridge)',\n",
              " 'M2LNorth York(York Mills / Silver Hills)',\n",
              " 'M3LNorth York(Downsview)West',\n",
              " 'M4LEast Toronto(India Bazaar / The Beaches West)',\n",
              " 'M5LDowntown Toronto(Commerce Court / Victoria Hotel)',\n",
              " 'M6LNorth York(North Park / Maple Leaf Park / Upwood Park)',\n",
              " 'M7LNot assigned',\n",
              " 'M8LNot assigned',\n",
              " 'M9LNorth York(Humber Summit)',\n",
              " 'M1MScarborough(Cliffside / Cliffcrest / Scarborough Village West)',\n",
              " 'M2MNorth York(Willowdale / Newtonbrook)',\n",
              " 'M3MNorth York(Downsview)Central',\n",
              " 'M4MEast Toronto(Studio District)',\n",
              " 'M5MNorth York(Bedford Park / Lawrence Manor East)',\n",
              " 'M6MYork(Del Ray / Mount Dennis / Keelsdale and Silverthorn)',\n",
              " 'M7MNot assigned',\n",
              " 'M8MNot assigned',\n",
              " 'M9MNorth York(Humberlea / Emery)',\n",
              " 'M1NScarborough(Birch Cliff / Cliffside West)',\n",
              " 'M2NNorth York(Willowdale)South',\n",
              " 'M3NNorth York(Downsview)Northwest',\n",
              " 'M4NCentral Toronto(Lawrence Park)',\n",
              " 'M5NCentral Toronto(Roselawn)',\n",
              " 'M6NYork(Runnymede / The Junction North)',\n",
              " 'M7NNot assigned',\n",
              " 'M8NNot assigned',\n",
              " 'M9NYork(Weston)',\n",
              " 'M1PScarborough(Dorset Park / Wexford Heights / Scarborough Town Centre)',\n",
              " 'M2PNorth York(York Mills West)',\n",
              " 'M3PNot assigned',\n",
              " 'M4PCentral Toronto(Davisville North)',\n",
              " 'M5PCentral Toronto(Forest Hill North & West)',\n",
              " 'M6PWest Toronto(High Park / The Junction South)',\n",
              " 'M7PNot assigned',\n",
              " 'M8PNot assigned',\n",
              " 'M9PEtobicoke(Westmount)',\n",
              " 'M1RScarborough(Wexford / Maryvale)',\n",
              " 'M2RNorth York(Willowdale)West',\n",
              " 'M3RNot assigned',\n",
              " 'M4RCentral Toronto(North Toronto West)',\n",
              " 'M5RCentral Toronto(The Annex / North Midtown / Yorkville)',\n",
              " 'M6RWest Toronto(Parkdale / Roncesvalles)',\n",
              " 'M7RMississaugaCanada Post Gateway Processing Centre(Enclave of L4W)',\n",
              " 'M8RNot assigned',\n",
              " 'M9REtobicoke(Kingsview Village / St. Phillips / Martin Grove Gardens / Richview Gardens)',\n",
              " 'M1SScarborough(Agincourt) ',\n",
              " 'M2SNot assigned',\n",
              " 'M3SNot assigned',\n",
              " 'M4SCentral Toronto(Davisville)',\n",
              " 'M5SDowntown Toronto(University of Toronto / Harbord)',\n",
              " 'M6SWest Toronto(Runnymede / Swansea)',\n",
              " 'M7SNot assigned',\n",
              " 'M8SNot assigned',\n",
              " 'M9SNot assigned',\n",
              " \"M1TScarborough(Clarks Corners / Tam O'Shanter / Sullivan)\",\n",
              " 'M2TNot assigned',\n",
              " 'M3TNot assigned',\n",
              " 'M4TCentral Toronto(Moore Park / Summerhill East)',\n",
              " 'M5TDowntown Toronto(Kensington Market / Chinatown / Grange Park)',\n",
              " 'M6TNot assigned',\n",
              " 'M7TNot assigned',\n",
              " 'M8TNot assigned',\n",
              " 'M9TNot assigned',\n",
              " \"M1VScarborough(Milliken / Agincourt North / Steeles East / L'Amoreaux East)\",\n",
              " 'M2VNot assigned',\n",
              " 'M3VNot assigned',\n",
              " 'M4VCentral Toronto(Summerhill West / Rathnelly / South Hill / Forest Hill SE / Deer Park)',\n",
              " 'M5VDowntown Toronto(CN Tower / King and Spadina / Railway Lands / Harbourfront West / Bathurst Quay / South Niagara / Island airport)',\n",
              " 'M6VNot assigned',\n",
              " 'M7VNot assigned',\n",
              " 'M8VEtobicoke(New Toronto / Mimico South / Humber Bay Shores)',\n",
              " 'M9VEtobicoke(South Steeles / Silverstone / Humbergate / Jamestown / Mount Olive / Beaumond Heights / Thistletown / Albion Gardens)',\n",
              " \"M1WScarborough(Steeles West / L'Amoreaux West)\",\n",
              " 'M2WNot assigned',\n",
              " 'M3WNot assigned',\n",
              " 'M4WDowntown Toronto(Rosedale)',\n",
              " 'M5WDowntown TorontoStn A PO Boxes25 The Esplanade(Enclave of M5E)',\n",
              " 'M6WNot assigned',\n",
              " 'M7WNot assigned',\n",
              " 'M8WEtobicoke(Alderwood / Long Branch)',\n",
              " 'M9WEtobicokeNorthwest(Clairville / Humberwood / Woodbine Downs / West Humber / Kipling Heights / Rexdale / Elms / Tandridge / Old Rexdale)',\n",
              " 'M1XScarborough(Upper Rouge)',\n",
              " 'M2XNot assigned',\n",
              " 'M3XNot assigned',\n",
              " 'M4XDowntown Toronto(St. James Town / Cabbagetown)',\n",
              " 'M5XDowntown Toronto(First Canadian Place / Underground city)',\n",
              " 'M6XNot assigned',\n",
              " 'M7XNot assigned',\n",
              " 'M8XEtobicoke(The Kingsway / Montgomery Road / Old Mill North)',\n",
              " 'M9XNot assigned',\n",
              " 'M1YNot assigned',\n",
              " 'M2YNot assigned',\n",
              " 'M3YNot assigned',\n",
              " 'M4YDowntown Toronto(Church and Wellesley)',\n",
              " 'M5YNot assigned',\n",
              " 'M6YNot assigned',\n",
              " 'M7YEast TorontoBusiness reply mail Processing Centre969 Eastern(Enclave of M4L)',\n",
              " \"M8YEtobicoke(Old Mill South / King's Mill Park / Sunnylea / Humber Bay / Mimico NE / The Queensway East / Royal York South East / Kingsway Park South East)\",\n",
              " 'M9YNot assigned',\n",
              " 'M1ZNot assigned',\n",
              " 'M2ZNot assigned',\n",
              " 'M3ZNot assigned',\n",
              " 'M4ZNot assigned',\n",
              " 'M5ZNot assigned',\n",
              " 'M6ZNot assigned',\n",
              " 'M7ZNot assigned',\n",
              " 'M8ZEtobicoke(Mimico NW / The Queensway West / South of Bloor / Kingsway Park South West / Royal York South West)',\n",
              " 'M9ZNot assigned\\n\\n']"
            ]
          },
          "metadata": {
            "tags": []
          },
          "execution_count": 6
        }
      ]
    },
    {
      "cell_type": "code",
      "metadata": {
        "id": "sg2WWmK9XCYb"
      },
      "source": [
        "tab1=pd.DataFrame(re.split('\\n{3,5}', tb))"
      ],
      "execution_count": 7,
      "outputs": []
    },
    {
      "cell_type": "code",
      "metadata": {
        "colab": {
          "base_uri": "https://localhost:8080/",
          "height": 648
        },
        "id": "vUUer4k3XFKL",
        "outputId": "e8de2933-ebd0-4cb6-b2ae-83d9fcfe8ff6"
      },
      "source": [
        "tab1.head(20)"
      ],
      "execution_count": 8,
      "outputs": [
        {
          "output_type": "execute_result",
          "data": {
            "text/html": [
              "<div>\n",
              "<style scoped>\n",
              "    .dataframe tbody tr th:only-of-type {\n",
              "        vertical-align: middle;\n",
              "    }\n",
              "\n",
              "    .dataframe tbody tr th {\n",
              "        vertical-align: top;\n",
              "    }\n",
              "\n",
              "    .dataframe thead th {\n",
              "        text-align: right;\n",
              "    }\n",
              "</style>\n",
              "<table border=\"1\" class=\"dataframe\">\n",
              "  <thead>\n",
              "    <tr style=\"text-align: right;\">\n",
              "      <th></th>\n",
              "      <th>0</th>\n",
              "    </tr>\n",
              "  </thead>\n",
              "  <tbody>\n",
              "    <tr>\n",
              "      <th>0</th>\n",
              "      <td></td>\n",
              "    </tr>\n",
              "    <tr>\n",
              "      <th>1</th>\n",
              "      <td>M1ANot assigned</td>\n",
              "    </tr>\n",
              "    <tr>\n",
              "      <th>2</th>\n",
              "      <td>M2ANot assigned</td>\n",
              "    </tr>\n",
              "    <tr>\n",
              "      <th>3</th>\n",
              "      <td>M3ANorth York(Parkwoods)</td>\n",
              "    </tr>\n",
              "    <tr>\n",
              "      <th>4</th>\n",
              "      <td>M4ANorth York(Victoria Village)</td>\n",
              "    </tr>\n",
              "    <tr>\n",
              "      <th>5</th>\n",
              "      <td>M5ADowntown Toronto(Regent Park / Harbourfront)</td>\n",
              "    </tr>\n",
              "    <tr>\n",
              "      <th>6</th>\n",
              "      <td>M6ANorth York(Lawrence Manor / Lawrence Heights)</td>\n",
              "    </tr>\n",
              "    <tr>\n",
              "      <th>7</th>\n",
              "      <td>M7AQueen's Park(Ontario Provincial Government)</td>\n",
              "    </tr>\n",
              "    <tr>\n",
              "      <th>8</th>\n",
              "      <td>M8ANot assigned</td>\n",
              "    </tr>\n",
              "    <tr>\n",
              "      <th>9</th>\n",
              "      <td>M9AEtobicoke(Islington Avenue)</td>\n",
              "    </tr>\n",
              "    <tr>\n",
              "      <th>10</th>\n",
              "      <td>M1BScarborough(Malvern / Rouge)</td>\n",
              "    </tr>\n",
              "    <tr>\n",
              "      <th>11</th>\n",
              "      <td>M2BNot assigned</td>\n",
              "    </tr>\n",
              "    <tr>\n",
              "      <th>12</th>\n",
              "      <td>M3BNorth York(Don Mills)North</td>\n",
              "    </tr>\n",
              "    <tr>\n",
              "      <th>13</th>\n",
              "      <td>M4BEast York(Parkview Hill / Woodbine Gardens)</td>\n",
              "    </tr>\n",
              "    <tr>\n",
              "      <th>14</th>\n",
              "      <td>M5BDowntown Toronto(Garden District, Ryerson)</td>\n",
              "    </tr>\n",
              "    <tr>\n",
              "      <th>15</th>\n",
              "      <td>M6BNorth York(Glencairn)</td>\n",
              "    </tr>\n",
              "    <tr>\n",
              "      <th>16</th>\n",
              "      <td>M7BNot assigned</td>\n",
              "    </tr>\n",
              "    <tr>\n",
              "      <th>17</th>\n",
              "      <td>M8BNot assigned</td>\n",
              "    </tr>\n",
              "    <tr>\n",
              "      <th>18</th>\n",
              "      <td>M9BEtobicoke(West Deane Park / Princess Garden...</td>\n",
              "    </tr>\n",
              "    <tr>\n",
              "      <th>19</th>\n",
              "      <td>M1CScarborough(Rouge Hill / Port Union / Highl...</td>\n",
              "    </tr>\n",
              "  </tbody>\n",
              "</table>\n",
              "</div>"
            ],
            "text/plain": [
              "                                                    0\n",
              "0                                                    \n",
              "1                                     M1ANot assigned\n",
              "2                                     M2ANot assigned\n",
              "3                            M3ANorth York(Parkwoods)\n",
              "4                     M4ANorth York(Victoria Village)\n",
              "5     M5ADowntown Toronto(Regent Park / Harbourfront)\n",
              "6    M6ANorth York(Lawrence Manor / Lawrence Heights)\n",
              "7      M7AQueen's Park(Ontario Provincial Government)\n",
              "8                                     M8ANot assigned\n",
              "9                      M9AEtobicoke(Islington Avenue)\n",
              "10                    M1BScarborough(Malvern / Rouge)\n",
              "11                                    M2BNot assigned\n",
              "12                      M3BNorth York(Don Mills)North\n",
              "13     M4BEast York(Parkview Hill / Woodbine Gardens)\n",
              "14      M5BDowntown Toronto(Garden District, Ryerson)\n",
              "15                           M6BNorth York(Glencairn)\n",
              "16                                    M7BNot assigned\n",
              "17                                    M8BNot assigned\n",
              "18  M9BEtobicoke(West Deane Park / Princess Garden...\n",
              "19  M1CScarborough(Rouge Hill / Port Union / Highl..."
            ]
          },
          "metadata": {
            "tags": []
          },
          "execution_count": 8
        }
      ]
    },
    {
      "cell_type": "markdown",
      "metadata": {
        "id": "VfoWXgjdXI4a"
      },
      "source": [
        "Create a Dataframe"
      ]
    },
    {
      "cell_type": "code",
      "metadata": {
        "id": "Tu8VL9csXHH7"
      },
      "source": [
        "Toronto = pd.DataFrame()"
      ],
      "execution_count": 9,
      "outputs": []
    },
    {
      "cell_type": "markdown",
      "metadata": {
        "id": "L_xQKipIXM_K"
      },
      "source": [
        "Create column Postalcode with the part of the tb1."
      ]
    },
    {
      "cell_type": "code",
      "metadata": {
        "id": "JJJGdJriXK0L"
      },
      "source": [
        "Toronto['Postalcode']= tab1[0].str[0:3]"
      ],
      "execution_count": 10,
      "outputs": []
    },
    {
      "cell_type": "markdown",
      "metadata": {
        "id": "Nye4fXdpXUbZ"
      },
      "source": [
        "Create column Borough with the part of the tb1."
      ]
    },
    {
      "cell_type": "code",
      "metadata": {
        "id": "XcK49RVIXRDH"
      },
      "source": [
        "Toronto['Borough']=tab1[0].str.extract('...(.*)\\(')"
      ],
      "execution_count": 11,
      "outputs": []
    },
    {
      "cell_type": "markdown",
      "metadata": {
        "id": "CBWeCVx8Xcop"
      },
      "source": [
        "Create column Neighborhood with the part of the tb1."
      ]
    },
    {
      "cell_type": "code",
      "metadata": {
        "id": "4ZQnfs0qXXTa"
      },
      "source": [
        "Toronto['Neighborhood'] = tab1[0].str.extract('\\((.*)\\)')"
      ],
      "execution_count": 12,
      "outputs": []
    },
    {
      "cell_type": "code",
      "metadata": {
        "colab": {
          "base_uri": "https://localhost:8080/"
        },
        "id": "1UEpzH7OXgpl",
        "outputId": "76888df8-17d1-4ebb-8a84-dc52cbca6976"
      },
      "source": [
        "Toronto.shape"
      ],
      "execution_count": 13,
      "outputs": [
        {
          "output_type": "execute_result",
          "data": {
            "text/plain": [
              "(181, 3)"
            ]
          },
          "metadata": {
            "tags": []
          },
          "execution_count": 13
        }
      ]
    },
    {
      "cell_type": "markdown",
      "metadata": {
        "id": "KaPXvqfCXn-5"
      },
      "source": [
        "Drop null values."
      ]
    },
    {
      "cell_type": "code",
      "metadata": {
        "id": "w5n3-vVsXlr5"
      },
      "source": [
        "Toronto.dropna(thresh=2, inplace=True)"
      ],
      "execution_count": 14,
      "outputs": []
    },
    {
      "cell_type": "markdown",
      "metadata": {
        "id": "Q8jvZ7w9Xr-R"
      },
      "source": [
        "Placing each neighborhood on a separate line"
      ]
    },
    {
      "cell_type": "code",
      "metadata": {
        "id": "z081OT66XqGZ"
      },
      "source": [
        "Neighborhood = Toronto.Neighborhood.str.split('/|,', expand=True).values.ravel()\n",
        "Borough = np.repeat(Toronto.Borough.values, len(Neighborhood) / len(Toronto))\n",
        "Postalcode = np.repeat(Toronto.Postalcode.values, len(Neighborhood) / len(Toronto))\n",
        "\n",
        "Toronto = pd.DataFrame({'Postalcode': Postalcode,\n",
        "              'Borough': Borough,\n",
        "              'Neighborhood':Neighborhood})"
      ],
      "execution_count": 15,
      "outputs": []
    },
    {
      "cell_type": "markdown",
      "metadata": {
        "id": "7dYmLstzXzDn"
      },
      "source": [
        "Drop null values"
      ]
    },
    {
      "cell_type": "code",
      "metadata": {
        "id": "bJQI9VOtXwJk"
      },
      "source": [
        "Toronto.dropna(subset=['Neighborhood'], inplace=True)"
      ],
      "execution_count": 16,
      "outputs": []
    },
    {
      "cell_type": "markdown",
      "metadata": {
        "id": "4KArqUclX3wI"
      },
      "source": [
        "Reset the index"
      ]
    },
    {
      "cell_type": "code",
      "metadata": {
        "colab": {
          "base_uri": "https://localhost:8080/",
          "height": 407
        },
        "id": "EdFloKlQX1Tn",
        "outputId": "69bb7911-cad7-41a8-c955-4a36b20cd1e4"
      },
      "source": [
        "Toronto.reset_index(drop=True)"
      ],
      "execution_count": 17,
      "outputs": [
        {
          "output_type": "execute_result",
          "data": {
            "text/html": [
              "<div>\n",
              "<style scoped>\n",
              "    .dataframe tbody tr th:only-of-type {\n",
              "        vertical-align: middle;\n",
              "    }\n",
              "\n",
              "    .dataframe tbody tr th {\n",
              "        vertical-align: top;\n",
              "    }\n",
              "\n",
              "    .dataframe thead th {\n",
              "        text-align: right;\n",
              "    }\n",
              "</style>\n",
              "<table border=\"1\" class=\"dataframe\">\n",
              "  <thead>\n",
              "    <tr style=\"text-align: right;\">\n",
              "      <th></th>\n",
              "      <th>Postalcode</th>\n",
              "      <th>Borough</th>\n",
              "      <th>Neighborhood</th>\n",
              "    </tr>\n",
              "  </thead>\n",
              "  <tbody>\n",
              "    <tr>\n",
              "      <th>0</th>\n",
              "      <td>M3A</td>\n",
              "      <td>North York</td>\n",
              "      <td>Parkwoods</td>\n",
              "    </tr>\n",
              "    <tr>\n",
              "      <th>1</th>\n",
              "      <td>M4A</td>\n",
              "      <td>North York</td>\n",
              "      <td>Victoria Village</td>\n",
              "    </tr>\n",
              "    <tr>\n",
              "      <th>2</th>\n",
              "      <td>M5A</td>\n",
              "      <td>Downtown Toronto</td>\n",
              "      <td>Regent Park</td>\n",
              "    </tr>\n",
              "    <tr>\n",
              "      <th>3</th>\n",
              "      <td>M5A</td>\n",
              "      <td>Downtown Toronto</td>\n",
              "      <td>Harbourfront</td>\n",
              "    </tr>\n",
              "    <tr>\n",
              "      <th>4</th>\n",
              "      <td>M6A</td>\n",
              "      <td>North York</td>\n",
              "      <td>Lawrence Manor</td>\n",
              "    </tr>\n",
              "    <tr>\n",
              "      <th>...</th>\n",
              "      <td>...</td>\n",
              "      <td>...</td>\n",
              "      <td>...</td>\n",
              "    </tr>\n",
              "    <tr>\n",
              "      <th>211</th>\n",
              "      <td>M8Z</td>\n",
              "      <td>Etobicoke</td>\n",
              "      <td>Mimico NW</td>\n",
              "    </tr>\n",
              "    <tr>\n",
              "      <th>212</th>\n",
              "      <td>M8Z</td>\n",
              "      <td>Etobicoke</td>\n",
              "      <td>The Queensway West</td>\n",
              "    </tr>\n",
              "    <tr>\n",
              "      <th>213</th>\n",
              "      <td>M8Z</td>\n",
              "      <td>Etobicoke</td>\n",
              "      <td>South of Bloor</td>\n",
              "    </tr>\n",
              "    <tr>\n",
              "      <th>214</th>\n",
              "      <td>M8Z</td>\n",
              "      <td>Etobicoke</td>\n",
              "      <td>Kingsway Park South West</td>\n",
              "    </tr>\n",
              "    <tr>\n",
              "      <th>215</th>\n",
              "      <td>M8Z</td>\n",
              "      <td>Etobicoke</td>\n",
              "      <td>Royal York South West</td>\n",
              "    </tr>\n",
              "  </tbody>\n",
              "</table>\n",
              "<p>216 rows × 3 columns</p>\n",
              "</div>"
            ],
            "text/plain": [
              "    Postalcode           Borough                Neighborhood\n",
              "0          M3A        North York                   Parkwoods\n",
              "1          M4A        North York            Victoria Village\n",
              "2          M5A  Downtown Toronto                Regent Park \n",
              "3          M5A  Downtown Toronto                Harbourfront\n",
              "4          M6A        North York             Lawrence Manor \n",
              "..         ...               ...                         ...\n",
              "211        M8Z         Etobicoke                  Mimico NW \n",
              "212        M8Z         Etobicoke         The Queensway West \n",
              "213        M8Z         Etobicoke             South of Bloor \n",
              "214        M8Z         Etobicoke   Kingsway Park South West \n",
              "215        M8Z         Etobicoke       Royal York South West\n",
              "\n",
              "[216 rows x 3 columns]"
            ]
          },
          "metadata": {
            "tags": []
          },
          "execution_count": 17
        }
      ]
    },
    {
      "cell_type": "markdown",
      "metadata": {
        "id": "a8XStulNX9ag"
      },
      "source": [
        "The replaces below were done, because they were giving error in the loop *for* for get the latitude and longitude. As errors were found in the for, I changed the names of Borough or Neighborhood."
      ]
    },
    {
      "cell_type": "markdown",
      "metadata": {
        "id": "iS36T-4JYOCf"
      },
      "source": [
        "      Note: First mistake in the borough was: Ontario Provincial Government which is the Ontario Legislative Building at Quen's Park, so he went to Neighborhood Queen's Park to define Lat and Long."
      ]
    },
    {
      "cell_type": "code",
      "metadata": {
        "id": "0ozi81vzX59H"
      },
      "source": [
        "Toronto.replace({'MississaugaCanada Post Gateway Processing Centre':'Mississauga',\n",
        "                 'Downtown TorontoStn A PO Boxes25 The Esplanade': 'Downtown',\n",
        "                 'EtobicokeNorthwest':'Etobicoke Northwest',\n",
        "                 'East TorontoBusiness reply mail Processing Centre969 Eastern':'East Toronto Business'},\n",
        "                inplace=True)"
      ],
      "execution_count": 18,
      "outputs": []
    },
    {
      "cell_type": "code",
      "metadata": {
        "id": "39rDH0A9Yw2v",
        "colab": {
          "base_uri": "https://localhost:8080/"
        },
        "outputId": "1904f22f-c409-4e23-a735-7fb41d540dc7"
      },
      "source": [
        "Toronto.shape"
      ],
      "execution_count": 19,
      "outputs": [
        {
          "output_type": "execute_result",
          "data": {
            "text/plain": [
              "(216, 3)"
            ]
          },
          "metadata": {
            "tags": []
          },
          "execution_count": 19
        }
      ]
    }
  ]
}